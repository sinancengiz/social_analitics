{
 "cells": [
  {
   "cell_type": "code",
   "execution_count": 12,
   "metadata": {},
   "outputs": [],
   "source": [
    "# Dependencies\n",
    "import json\n",
    "import tweepy\n",
    "import numpy as np\n",
    "import pandas as pd\n",
    "import matplotlib.pyplot as plt\n",
    "from matplotlib import style\n",
    "from datetime import datetime\n",
    "from pprint import pprint"
   ]
  },
  {
   "cell_type": "code",
   "execution_count": 13,
   "metadata": {},
   "outputs": [],
   "source": [
    "# Import Twitter API Keys\n",
    "from config import consumer_key, consumer_secret, access_token, access_token_secret"
   ]
  },
  {
   "cell_type": "code",
   "execution_count": 14,
   "metadata": {},
   "outputs": [],
   "source": [
    "# Setup Tweepy API Authentication\n",
    "auth = tweepy.OAuthHandler(consumer_key, consumer_secret)\n",
    "auth.set_access_token(access_token, access_token_secret)\n",
    "api = tweepy.API(auth, parser=tweepy.parsers.JSONParser())"
   ]
  },
  {
   "cell_type": "code",
   "execution_count": 15,
   "metadata": {},
   "outputs": [],
   "source": [
    "# Target Hashtags\n",
    "target_user =[\"@BBC\", \"@CBSNews\", \"@cnni\", \"@FoxNews\", \"@nytimes\"]"
   ]
  },
  {
   "cell_type": "code",
   "execution_count": 16,
   "metadata": {},
   "outputs": [],
   "source": [
    "# List for dictionaries of results\n",
    "user_results_means_list= []\n",
    "user_result_list = []\n",
    "bbc_results = []"
   ]
  },
  {
   "cell_type": "code",
   "execution_count": 17,
   "metadata": {},
   "outputs": [],
   "source": [
    "# Import and Initialize Sentiment Analyzer\n",
    "from vaderSentiment.vaderSentiment import SentimentIntensityAnalyzer\n",
    "analyzer = SentimentIntensityAnalyzer()"
   ]
  },
  {
   "cell_type": "code",
   "execution_count": 18,
   "metadata": {},
   "outputs": [
    {
     "name": "stdout",
     "output_type": "stream",
     "text": [
      "'Thu Jan 29 08:30:16 +0000 2009'\n"
     ]
    }
   ],
   "source": [
    "public_tweets = api.user_timeline(\"@BBC\", page=1)\n",
    "pprint(public_tweets[1][\"user\"][\"created_at\"])"
   ]
  },
  {
   "cell_type": "code",
   "execution_count": 19,
   "metadata": {
    "scrolled": true
   },
   "outputs": [],
   "source": [
    "# Loop through each user\n",
    "for user in target_user:\n",
    "\n",
    "    # Variables for holding sentiments\n",
    "    tweet_text_list = []\n",
    "    tweet_times = []\n",
    "    compound_list = []\n",
    "    positive_list = []\n",
    "    negative_list = []\n",
    "    neutral_list = []\n",
    "    \n",
    "    # Loop through 10 pages of tweets (total 200 tweets)\n",
    "    for x in range(1, 6):\n",
    "\n",
    "        # Get all tweets from home feed\n",
    "        public_tweets = api.user_timeline(user, page=x)\n",
    "\n",
    "        # Loop through all tweets\n",
    "        for tweet in public_tweets:\n",
    "\n",
    "            # Run Vader Analysis on each tweet\n",
    "            results = analyzer.polarity_scores(tweet[\"text\"])\n",
    "            tweet_text = tweet[\"text\"]\n",
    "            tweet_time = tweet[\"user\"][\"created_at\"]\n",
    "            compound = results[\"compound\"]\n",
    "            pos = results[\"pos\"]\n",
    "            neu = results[\"neu\"]\n",
    "            neg = results[\"neg\"]\n",
    "           # Add each value to the appropriate list\n",
    "            tweet_text_list.append(tweet_text)\n",
    "            tweet_times.append(tweet_time)\n",
    "            compound_list.append(compound)\n",
    "            positive_list.append(pos)\n",
    "            negative_list.append(neg)\n",
    "            neutral_list.append(neu)\n",
    "\n",
    "    # Create a dictionaty of results\n",
    "    user_results_means = {\n",
    "        \"Compound Score\": np.mean(compound_list),\n",
    "        \"Postive Score\": np.mean(positive_list),\n",
    "        \"Neutral Score\": np.mean(neutral_list),\n",
    "        \"Negative Score\": np.mean(negative_list)\n",
    "        }\n",
    "    user_results = {\n",
    "        \"Text\" : tweet_text_list,\n",
    "        \"Tweet Time\" : tweet_times,\n",
    "        \"Compound Score\": compound_list,\n",
    "        \"Postive Score\": positive_list,\n",
    "        \"Neutral Score\": neutral_list,\n",
    "        \"Negative Score\": negative_list\n",
    "        }\n",
    "        \n",
    "    # Append dictionary to list\n",
    "    \n",
    "    user_results_means_list.append(user_results_means)\n",
    "    if user == \"@BBC\":\n",
    "        bbc_df = pd.DataFrame(user_results)\n",
    "    elif user == \"@CBSNews\":\n",
    "       cbs_df = pd.DataFrame(user_results)\n",
    "    elif user == \"@cnni\":\n",
    "       cnn_df = pd.DataFrame(user_results)\n",
    "    elif user == \"@FoxNews\":\n",
    "       fox_df = pd.DataFrame(user_results)\n",
    "    elif user == \"@nytimes\":\n",
    "       nyt_df = pd.DataFrame(user_results)"
   ]
  },
  {
   "cell_type": "code",
   "execution_count": 20,
   "metadata": {},
   "outputs": [
    {
     "data": {
      "text/html": [
       "<div>\n",
       "<style scoped>\n",
       "    .dataframe tbody tr th:only-of-type {\n",
       "        vertical-align: middle;\n",
       "    }\n",
       "\n",
       "    .dataframe tbody tr th {\n",
       "        vertical-align: top;\n",
       "    }\n",
       "\n",
       "    .dataframe thead th {\n",
       "        text-align: right;\n",
       "    }\n",
       "</style>\n",
       "<table border=\"1\" class=\"dataframe\">\n",
       "  <thead>\n",
       "    <tr style=\"text-align: right;\">\n",
       "      <th></th>\n",
       "      <th>Compound Score</th>\n",
       "      <th>Negative Score</th>\n",
       "      <th>Neutral Score</th>\n",
       "      <th>Postive Score</th>\n",
       "      <th>Text</th>\n",
       "      <th>Tweet Time</th>\n",
       "    </tr>\n",
       "  </thead>\n",
       "  <tbody>\n",
       "    <tr>\n",
       "      <th>0</th>\n",
       "      <td>0.0000</td>\n",
       "      <td>0.000</td>\n",
       "      <td>1.000</td>\n",
       "      <td>0.000</td>\n",
       "      <td>Take extra caution with obscure tech brands. T...</td>\n",
       "      <td>Fri Mar 02 20:41:42 +0000 2007</td>\n",
       "    </tr>\n",
       "    <tr>\n",
       "      <th>1</th>\n",
       "      <td>0.0000</td>\n",
       "      <td>0.000</td>\n",
       "      <td>1.000</td>\n",
       "      <td>0.000</td>\n",
       "      <td>Neither a traditional tutor nor a straight-up ...</td>\n",
       "      <td>Fri Mar 02 20:41:42 +0000 2007</td>\n",
       "    </tr>\n",
       "    <tr>\n",
       "      <th>2</th>\n",
       "      <td>0.0000</td>\n",
       "      <td>0.000</td>\n",
       "      <td>1.000</td>\n",
       "      <td>0.000</td>\n",
       "      <td>‘Big Brother’ in India Requires Fingerprint Sc...</td>\n",
       "      <td>Fri Mar 02 20:41:42 +0000 2007</td>\n",
       "    </tr>\n",
       "    <tr>\n",
       "      <th>3</th>\n",
       "      <td>-0.6908</td>\n",
       "      <td>0.207</td>\n",
       "      <td>0.793</td>\n",
       "      <td>0.000</td>\n",
       "      <td>The tiny elevator in a Brooklyn housing projec...</td>\n",
       "      <td>Fri Mar 02 20:41:42 +0000 2007</td>\n",
       "    </tr>\n",
       "    <tr>\n",
       "      <th>4</th>\n",
       "      <td>0.6597</td>\n",
       "      <td>0.000</td>\n",
       "      <td>0.769</td>\n",
       "      <td>0.231</td>\n",
       "      <td>\"My parents don’t want to just throw money aro...</td>\n",
       "      <td>Fri Mar 02 20:41:42 +0000 2007</td>\n",
       "    </tr>\n",
       "  </tbody>\n",
       "</table>\n",
       "</div>"
      ],
      "text/plain": [
       "   Compound Score  Negative Score  Neutral Score  Postive Score  \\\n",
       "0          0.0000           0.000          1.000          0.000   \n",
       "1          0.0000           0.000          1.000          0.000   \n",
       "2          0.0000           0.000          1.000          0.000   \n",
       "3         -0.6908           0.207          0.793          0.000   \n",
       "4          0.6597           0.000          0.769          0.231   \n",
       "\n",
       "                                                Text  \\\n",
       "0  Take extra caution with obscure tech brands. T...   \n",
       "1  Neither a traditional tutor nor a straight-up ...   \n",
       "2  ‘Big Brother’ in India Requires Fingerprint Sc...   \n",
       "3  The tiny elevator in a Brooklyn housing projec...   \n",
       "4  \"My parents don’t want to just throw money aro...   \n",
       "\n",
       "                       Tweet Time  \n",
       "0  Fri Mar 02 20:41:42 +0000 2007  \n",
       "1  Fri Mar 02 20:41:42 +0000 2007  \n",
       "2  Fri Mar 02 20:41:42 +0000 2007  \n",
       "3  Fri Mar 02 20:41:42 +0000 2007  \n",
       "4  Fri Mar 02 20:41:42 +0000 2007  "
      ]
     },
     "execution_count": 20,
     "metadata": {},
     "output_type": "execute_result"
    }
   ],
   "source": [
    "nyt_df.head()"
   ]
  },
  {
   "cell_type": "code",
   "execution_count": 21,
   "metadata": {
    "scrolled": false
   },
   "outputs": [],
   "source": [
    "bbc_df[\"Timestamp\"] = range(1, 101)\n",
    "cbs_df[\"Timestamp\"] = range(1, 101)\n",
    "cnn_df[\"Timestamp\"] = range(1, 101)\n",
    "fox_df[\"Timestamp\"] = range(1, 101)\n",
    "nyt_df[\"Timestamp\"] = range(1, 101)"
   ]
  },
  {
   "cell_type": "code",
   "execution_count": 43,
   "metadata": {
    "scrolled": true
   },
   "outputs": [],
   "source": [
    "organized_bbc_df = bbc_df[[\"Timestamp\",\"Tweet Time\",\"Text\",\"Compound Score\",\"Neutral Score\",\"Negative Score\",\"Postive Score\"]]\n",
    "\n",
    "organized_cbs_df = cbs_df[[\"Timestamp\",\"Tweet Time\",\"Text\",\"Compound Score\",\"Neutral Score\",\"Negative Score\",\"Postive Score\"]]\n",
    "\n",
    "organized_cnn_df = cnn_df[[\"Timestamp\",\"Tweet Time\",\"Text\",\"Compound Score\",\"Neutral Score\",\"Negative Score\",\"Postive Score\"]]\n",
    "\n",
    "organized_fox_df = fox_df[[\"Timestamp\",\"Tweet Time\",\"Text\",\"Compound Score\",\"Neutral Score\",\"Negative Score\",\"Postive Score\"]]\n",
    "\n",
    "organized_nyt_df = nyt_df[[\"Timestamp\",\"Tweet Time\",\"Text\",\"Compound Score\",\"Neutral Score\",\"Negative Score\",\"Postive Score\"]]\n"
   ]
  },
  {
   "cell_type": "code",
   "execution_count": 45,
   "metadata": {},
   "outputs": [
    {
     "data": {
      "text/html": [
       "<div>\n",
       "<style scoped>\n",
       "    .dataframe tbody tr th:only-of-type {\n",
       "        vertical-align: middle;\n",
       "    }\n",
       "\n",
       "    .dataframe tbody tr th {\n",
       "        vertical-align: top;\n",
       "    }\n",
       "\n",
       "    .dataframe thead th {\n",
       "        text-align: right;\n",
       "    }\n",
       "</style>\n",
       "<table border=\"1\" class=\"dataframe\">\n",
       "  <thead>\n",
       "    <tr style=\"text-align: right;\">\n",
       "      <th></th>\n",
       "      <th>Timestamp</th>\n",
       "      <th>bbc_compound</th>\n",
       "      <th>cbs_compound</th>\n",
       "      <th>cnn_compound</th>\n",
       "      <th>fox_compound</th>\n",
       "      <th>nyt_compound</th>\n",
       "    </tr>\n",
       "  </thead>\n",
       "  <tbody>\n",
       "    <tr>\n",
       "      <th>0</th>\n",
       "      <td>1</td>\n",
       "      <td>0.5719</td>\n",
       "      <td>0.7351</td>\n",
       "      <td>0.5994</td>\n",
       "      <td>0.0000</td>\n",
       "      <td>0.0000</td>\n",
       "    </tr>\n",
       "    <tr>\n",
       "      <th>1</th>\n",
       "      <td>2</td>\n",
       "      <td>0.0000</td>\n",
       "      <td>0.0000</td>\n",
       "      <td>0.0000</td>\n",
       "      <td>0.0000</td>\n",
       "      <td>0.0000</td>\n",
       "    </tr>\n",
       "    <tr>\n",
       "      <th>2</th>\n",
       "      <td>3</td>\n",
       "      <td>-0.7269</td>\n",
       "      <td>0.4939</td>\n",
       "      <td>0.0000</td>\n",
       "      <td>0.0000</td>\n",
       "      <td>0.0000</td>\n",
       "    </tr>\n",
       "    <tr>\n",
       "      <th>3</th>\n",
       "      <td>4</td>\n",
       "      <td>0.6515</td>\n",
       "      <td>-0.8779</td>\n",
       "      <td>0.0000</td>\n",
       "      <td>-0.1027</td>\n",
       "      <td>-0.6908</td>\n",
       "    </tr>\n",
       "    <tr>\n",
       "      <th>4</th>\n",
       "      <td>5</td>\n",
       "      <td>0.6908</td>\n",
       "      <td>0.0000</td>\n",
       "      <td>0.2023</td>\n",
       "      <td>0.4767</td>\n",
       "      <td>0.6597</td>\n",
       "    </tr>\n",
       "  </tbody>\n",
       "</table>\n",
       "</div>"
      ],
      "text/plain": [
       "   Timestamp  bbc_compound  cbs_compound  cnn_compound  fox_compound  \\\n",
       "0          1        0.5719        0.7351        0.5994        0.0000   \n",
       "1          2        0.0000        0.0000        0.0000        0.0000   \n",
       "2          3       -0.7269        0.4939        0.0000        0.0000   \n",
       "3          4        0.6515       -0.8779        0.0000       -0.1027   \n",
       "4          5        0.6908        0.0000        0.2023        0.4767   \n",
       "\n",
       "   nyt_compound  \n",
       "0        0.0000  \n",
       "1        0.0000  \n",
       "2        0.0000  \n",
       "3       -0.6908  \n",
       "4        0.6597  "
      ]
     },
     "execution_count": 45,
     "metadata": {},
     "output_type": "execute_result"
    }
   ],
   "source": [
    "compound_values_df = pd.DataFrame(organized_bbc_df[\"Timestamp\"])\n",
    "compound_values_df[\"bbc_compound\"] = organized_bbc_df[\"Compound Score\"]\n",
    "compound_values_df[\"cbs_compound\"] = organized_cbs_df[\"Compound Score\"]\n",
    "compound_values_df[\"cnn_compound\"] = organized_cnn_df[\"Compound Score\"]\n",
    "compound_values_df[\"fox_compound\"] = organized_fox_df[\"Compound Score\"]\n",
    "compound_values_df[\"nyt_compound\"] = organized_nyt_df[\"Compound Score\"]\n",
    "#compound_values_df[\"Timestamp\"] = organized_bbc_df[\"Timestamp\"]\n",
    "compound_values_df.head()"
   ]
  },
  {
   "cell_type": "code",
   "execution_count": 86,
   "metadata": {},
   "outputs": [
    {
     "data": {
      "image/png": "[encoded data removed]",
      "text/plain": [
       "<Figure size 432x288 with 1 Axes>"
      ]
     },
     "metadata": {},
     "output_type": "display_data"
    }
   ],
   "source": [
    "ax = compound_values_df.plot(kind=\"scatter\", x=\"Timestamp\",y=\"bbc_compound\", color=\"black\", edgecolors=\"black\", s=60,  alpha=0.80, label=\"BBC\")\n",
    "compound_values_df.plot(kind=\"scatter\", x=\"Timestamp\",y=\"cbs_compound\", color=\"green\", edgecolors=\"black\",s=60, alpha=0.80, label=\"CBS\", ax=ax)\n",
    "compound_values_df.plot(kind=\"scatter\", x=\"Timestamp\",y=\"cnn_compound\", color=\"red\", edgecolors=\"black\",s=60, alpha=0.80,label=\"CNN\", ax=ax)\n",
    "compound_values_df.plot(kind=\"scatter\", x=\"Timestamp\",y=\"fox_compound\", color=\"blue\", edgecolors=\"black\",s=60, alpha=0.80,label=\"FOX\", ax=ax)\n",
    "compound_values_df.plot(kind=\"scatter\", x=\"Timestamp\",y=\"nyt_compound\", color=\"yellow\", edgecolors=\"black\",s=60, alpha=0.80, label=\"NYT\", ax=ax)\n",
    "plt.title(\"Sentiment Analysis of Media Tweets (04/07/2018)\")\n",
    "plt.ylabel(\"Tweet Polarity\")\n",
    "ax.set_facecolor('xkcd:pale turquoise')\n",
    "#Putting Legend\n",
    "plt.legend(title = \"Media Outlet\", loc=\"upper right\",bbox_to_anchor=(1.25, 1))\n",
    "plt.xlim([105,-5]) #Bonus\n",
    "plt.ylim([-1.05,1.05]) #Bonus\n",
    "plt.grid()\n",
    "plt.show()"
   ]
  },
  {
   "cell_type": "code",
   "execution_count": 93,
   "metadata": {},
   "outputs": [
    {
     "data": {
      "text/html": [
       "<div>\n",
       "<style scoped>\n",
       "    .dataframe tbody tr th:only-of-type {\n",
       "        vertical-align: middle;\n",
       "    }\n",
       "\n",
       "    .dataframe tbody tr th {\n",
       "        vertical-align: top;\n",
       "    }\n",
       "\n",
       "    .dataframe thead th {\n",
       "        text-align: right;\n",
       "    }\n",
       "</style>\n",
       "<table border=\"1\" class=\"dataframe\">\n",
       "  <thead>\n",
       "    <tr style=\"text-align: right;\">\n",
       "      <th></th>\n",
       "      <th>Compound Score</th>\n",
       "      <th>Negative Score</th>\n",
       "      <th>Neutral Score</th>\n",
       "      <th>Postive Score</th>\n",
       "      <th>Media Outlet</th>\n",
       "    </tr>\n",
       "  </thead>\n",
       "  <tbody>\n",
       "    <tr>\n",
       "      <th>0</th>\n",
       "      <td>0.066364</td>\n",
       "      <td>0.05061</td>\n",
       "      <td>0.87001</td>\n",
       "      <td>0.07936</td>\n",
       "      <td>@BBC</td>\n",
       "    </tr>\n",
       "    <tr>\n",
       "      <th>1</th>\n",
       "      <td>-0.249792</td>\n",
       "      <td>0.15552</td>\n",
       "      <td>0.80227</td>\n",
       "      <td>0.04221</td>\n",
       "      <td>@CBSNews</td>\n",
       "    </tr>\n",
       "    <tr>\n",
       "      <th>2</th>\n",
       "      <td>-0.048911</td>\n",
       "      <td>0.08041</td>\n",
       "      <td>0.85507</td>\n",
       "      <td>0.06451</td>\n",
       "      <td>@cnni</td>\n",
       "    </tr>\n",
       "    <tr>\n",
       "      <th>3</th>\n",
       "      <td>-0.091487</td>\n",
       "      <td>0.12067</td>\n",
       "      <td>0.80090</td>\n",
       "      <td>0.07841</td>\n",
       "      <td>@FoxNews</td>\n",
       "    </tr>\n",
       "    <tr>\n",
       "      <th>4</th>\n",
       "      <td>-0.033490</td>\n",
       "      <td>0.09083</td>\n",
       "      <td>0.83704</td>\n",
       "      <td>0.07216</td>\n",
       "      <td>@nytimes</td>\n",
       "    </tr>\n",
       "  </tbody>\n",
       "</table>\n",
       "</div>"
      ],
      "text/plain": [
       "   Compound Score  Negative Score  Neutral Score  Postive Score Media Outlet\n",
       "0        0.066364         0.05061        0.87001        0.07936         @BBC\n",
       "1       -0.249792         0.15552        0.80227        0.04221     @CBSNews\n",
       "2       -0.048911         0.08041        0.85507        0.06451        @cnni\n",
       "3       -0.091487         0.12067        0.80090        0.07841     @FoxNews\n",
       "4       -0.033490         0.09083        0.83704        0.07216     @nytimes"
      ]
     },
     "execution_count": 93,
     "metadata": {},
     "output_type": "execute_result"
    }
   ],
   "source": [
    "overall_sentiments_df = pd.DataFrame(user_results_means_list)\n",
    "overall_sentiments_df[\"Media Outlet\"] = target_user\n",
    "overall_sentiments_df\n"
   ]
  },
  {
   "cell_type": "code",
   "execution_count": 167,
   "metadata": {},
   "outputs": [
    {
     "ename": "AttributeError",
     "evalue": "Unknown property gap",
     "output_type": "error",
     "traceback": [
      "\u001b[1;31m---------------------------------------------------------------------------\u001b[0m",
      "\u001b[1;31mAttributeError\u001b[0m                            Traceback (most recent call last)",
      "\u001b[1;32m<ipython-input-167-d996eed6da39>\u001b[0m in \u001b[0;36m<module>\u001b[1;34m()\u001b[0m\n\u001b[0;32m      1\u001b[0m bar_chart = plt.bar(overall_sentiments_df[\"Media Outlet\"],overall_sentiments_df[\"Compound Score\"], \n\u001b[1;32m----> 2\u001b[1;33m                     color ='brown', alpha=0.5, align=\"edge\", gap = 0.05)\n\u001b[0m\u001b[0;32m      3\u001b[0m \u001b[0mx_axis\u001b[0m \u001b[1;33m=\u001b[0m \u001b[0mnp\u001b[0m\u001b[1;33m.\u001b[0m\u001b[0marange\u001b[0m\u001b[1;33m(\u001b[0m\u001b[0mlen\u001b[0m\u001b[1;33m(\u001b[0m\u001b[0moverall_sentiments_df\u001b[0m\u001b[1;33m[\u001b[0m\u001b[1;34m\"Media Outlet\"\u001b[0m\u001b[1;33m]\u001b[0m\u001b[1;33m)\u001b[0m\u001b[1;33m)\u001b[0m\u001b[1;33m\u001b[0m\u001b[0m\n\u001b[0;32m      4\u001b[0m \u001b[0mtick_locations\u001b[0m \u001b[1;33m=\u001b[0m \u001b[1;33m[\u001b[0m\u001b[0mvalue\u001b[0m\u001b[1;33m+\u001b[0m\u001b[1;36m0.4\u001b[0m \u001b[1;32mfor\u001b[0m \u001b[0mvalue\u001b[0m \u001b[1;32min\u001b[0m \u001b[0mx_axis\u001b[0m\u001b[1;33m]\u001b[0m\u001b[1;33m\u001b[0m\u001b[0m\n\u001b[0;32m      5\u001b[0m \u001b[0mplt\u001b[0m\u001b[1;33m.\u001b[0m\u001b[0mxticks\u001b[0m\u001b[1;33m(\u001b[0m\u001b[0mtick_locations\u001b[0m\u001b[1;33m,\u001b[0m \u001b[1;33m[\u001b[0m\u001b[1;34m\"BBC\"\u001b[0m\u001b[1;33m,\u001b[0m \u001b[1;34m\"CBS\"\u001b[0m\u001b[1;33m,\u001b[0m \u001b[1;34m\"CNN\"\u001b[0m\u001b[1;33m,\u001b[0m \u001b[1;34m\"FOX\"\u001b[0m\u001b[1;33m,\u001b[0m \u001b[1;34m\"NYT\"\u001b[0m\u001b[1;33m]\u001b[0m\u001b[1;33m)\u001b[0m\u001b[1;33m\u001b[0m\u001b[0m\n",
      "\u001b[1;32m~\\Anaconda3\\envs\\PythonData\\lib\\site-packages\\matplotlib\\pyplot.py\u001b[0m in \u001b[0;36mbar\u001b[1;34m(*args, **kwargs)\u001b[0m\n\u001b[0;32m   2768\u001b[0m                       mplDeprecation)\n\u001b[0;32m   2769\u001b[0m     \u001b[1;32mtry\u001b[0m\u001b[1;33m:\u001b[0m\u001b[1;33m\u001b[0m\u001b[0m\n\u001b[1;32m-> 2770\u001b[1;33m         \u001b[0mret\u001b[0m \u001b[1;33m=\u001b[0m \u001b[0max\u001b[0m\u001b[1;33m.\u001b[0m\u001b[0mbar\u001b[0m\u001b[1;33m(\u001b[0m\u001b[1;33m*\u001b[0m\u001b[0margs\u001b[0m\u001b[1;33m,\u001b[0m \u001b[1;33m**\u001b[0m\u001b[0mkwargs\u001b[0m\u001b[1;33m)\u001b[0m\u001b[1;33m\u001b[0m\u001b[0m\n\u001b[0m\u001b[0;32m   2771\u001b[0m     \u001b[1;32mfinally\u001b[0m\u001b[1;33m:\u001b[0m\u001b[1;33m\u001b[0m\u001b[0m\n\u001b[0;32m   2772\u001b[0m         \u001b[0max\u001b[0m\u001b[1;33m.\u001b[0m\u001b[0m_hold\u001b[0m \u001b[1;33m=\u001b[0m \u001b[0mwashold\u001b[0m\u001b[1;33m\u001b[0m\u001b[0m\n",
      "\u001b[1;32m~\\Anaconda3\\envs\\PythonData\\lib\\site-packages\\matplotlib\\__init__.py\u001b[0m in \u001b[0;36minner\u001b[1;34m(ax, *args, **kwargs)\u001b[0m\n\u001b[0;32m   1853\u001b[0m                         \u001b[1;34m\"the Matplotlib list!)\"\u001b[0m \u001b[1;33m%\u001b[0m \u001b[1;33m(\u001b[0m\u001b[0mlabel_namer\u001b[0m\u001b[1;33m,\u001b[0m \u001b[0mfunc\u001b[0m\u001b[1;33m.\u001b[0m\u001b[0m__name__\u001b[0m\u001b[1;33m)\u001b[0m\u001b[1;33m,\u001b[0m\u001b[1;33m\u001b[0m\u001b[0m\n\u001b[0;32m   1854\u001b[0m                         RuntimeWarning, stacklevel=2)\n\u001b[1;32m-> 1855\u001b[1;33m             \u001b[1;32mreturn\u001b[0m \u001b[0mfunc\u001b[0m\u001b[1;33m(\u001b[0m\u001b[0max\u001b[0m\u001b[1;33m,\u001b[0m \u001b[1;33m*\u001b[0m\u001b[0margs\u001b[0m\u001b[1;33m,\u001b[0m \u001b[1;33m**\u001b[0m\u001b[0mkwargs\u001b[0m\u001b[1;33m)\u001b[0m\u001b[1;33m\u001b[0m\u001b[0m\n\u001b[0m\u001b[0;32m   1856\u001b[0m \u001b[1;33m\u001b[0m\u001b[0m\n\u001b[0;32m   1857\u001b[0m         inner.__doc__ = _add_data_doc(inner.__doc__,\n",
      "\u001b[1;32m~\\Anaconda3\\envs\\PythonData\\lib\\site-packages\\matplotlib\\axes\\_axes.py\u001b[0m in \u001b[0;36mbar\u001b[1;34m(self, *args, **kwargs)\u001b[0m\n\u001b[0;32m   2278\u001b[0m                 \u001b[0mlabel\u001b[0m\u001b[1;33m=\u001b[0m\u001b[1;34m'_nolegend_'\u001b[0m\u001b[1;33m,\u001b[0m\u001b[1;33m\u001b[0m\u001b[0m\n\u001b[0;32m   2279\u001b[0m                 )\n\u001b[1;32m-> 2280\u001b[1;33m             \u001b[0mr\u001b[0m\u001b[1;33m.\u001b[0m\u001b[0mupdate\u001b[0m\u001b[1;33m(\u001b[0m\u001b[0mkwargs\u001b[0m\u001b[1;33m)\u001b[0m\u001b[1;33m\u001b[0m\u001b[0m\n\u001b[0m\u001b[0;32m   2281\u001b[0m             \u001b[0mr\u001b[0m\u001b[1;33m.\u001b[0m\u001b[0mget_path\u001b[0m\u001b[1;33m(\u001b[0m\u001b[1;33m)\u001b[0m\u001b[1;33m.\u001b[0m\u001b[0m_interpolation_steps\u001b[0m \u001b[1;33m=\u001b[0m \u001b[1;36m100\u001b[0m\u001b[1;33m\u001b[0m\u001b[0m\n\u001b[0;32m   2282\u001b[0m             \u001b[1;32mif\u001b[0m \u001b[0morientation\u001b[0m \u001b[1;33m==\u001b[0m \u001b[1;34m'vertical'\u001b[0m\u001b[1;33m:\u001b[0m\u001b[1;33m\u001b[0m\u001b[0m\n",
      "\u001b[1;32m~\\Anaconda3\\envs\\PythonData\\lib\\site-packages\\matplotlib\\artist.py\u001b[0m in \u001b[0;36mupdate\u001b[1;34m(self, props)\u001b[0m\n\u001b[0;32m    886\u001b[0m         \u001b[1;32mtry\u001b[0m\u001b[1;33m:\u001b[0m\u001b[1;33m\u001b[0m\u001b[0m\n\u001b[0;32m    887\u001b[0m             ret = [_update_property(self, k, v)\n\u001b[1;32m--> 888\u001b[1;33m                    for k, v in props.items()]\n\u001b[0m\u001b[0;32m    889\u001b[0m         \u001b[1;32mfinally\u001b[0m\u001b[1;33m:\u001b[0m\u001b[1;33m\u001b[0m\u001b[0m\n\u001b[0;32m    890\u001b[0m             \u001b[0mself\u001b[0m\u001b[1;33m.\u001b[0m\u001b[0meventson\u001b[0m \u001b[1;33m=\u001b[0m \u001b[0mstore\u001b[0m\u001b[1;33m\u001b[0m\u001b[0m\n",
      "\u001b[1;32m~\\Anaconda3\\envs\\PythonData\\lib\\site-packages\\matplotlib\\artist.py\u001b[0m in \u001b[0;36m<listcomp>\u001b[1;34m(.0)\u001b[0m\n\u001b[0;32m    886\u001b[0m         \u001b[1;32mtry\u001b[0m\u001b[1;33m:\u001b[0m\u001b[1;33m\u001b[0m\u001b[0m\n\u001b[0;32m    887\u001b[0m             ret = [_update_property(self, k, v)\n\u001b[1;32m--> 888\u001b[1;33m                    for k, v in props.items()]\n\u001b[0m\u001b[0;32m    889\u001b[0m         \u001b[1;32mfinally\u001b[0m\u001b[1;33m:\u001b[0m\u001b[1;33m\u001b[0m\u001b[0m\n\u001b[0;32m    890\u001b[0m             \u001b[0mself\u001b[0m\u001b[1;33m.\u001b[0m\u001b[0meventson\u001b[0m \u001b[1;33m=\u001b[0m \u001b[0mstore\u001b[0m\u001b[1;33m\u001b[0m\u001b[0m\n",
      "\u001b[1;32m~\\Anaconda3\\envs\\PythonData\\lib\\site-packages\\matplotlib\\artist.py\u001b[0m in \u001b[0;36m_update_property\u001b[1;34m(self, k, v)\u001b[0m\n\u001b[0;32m    879\u001b[0m                 \u001b[0mfunc\u001b[0m \u001b[1;33m=\u001b[0m \u001b[0mgetattr\u001b[0m\u001b[1;33m(\u001b[0m\u001b[0mself\u001b[0m\u001b[1;33m,\u001b[0m \u001b[1;34m'set_'\u001b[0m \u001b[1;33m+\u001b[0m \u001b[0mk\u001b[0m\u001b[1;33m,\u001b[0m \u001b[1;32mNone\u001b[0m\u001b[1;33m)\u001b[0m\u001b[1;33m\u001b[0m\u001b[0m\n\u001b[0;32m    880\u001b[0m                 \u001b[1;32mif\u001b[0m \u001b[1;32mnot\u001b[0m \u001b[0mcallable\u001b[0m\u001b[1;33m(\u001b[0m\u001b[0mfunc\u001b[0m\u001b[1;33m)\u001b[0m\u001b[1;33m:\u001b[0m\u001b[1;33m\u001b[0m\u001b[0m\n\u001b[1;32m--> 881\u001b[1;33m                     \u001b[1;32mraise\u001b[0m \u001b[0mAttributeError\u001b[0m\u001b[1;33m(\u001b[0m\u001b[1;34m'Unknown property %s'\u001b[0m \u001b[1;33m%\u001b[0m \u001b[0mk\u001b[0m\u001b[1;33m)\u001b[0m\u001b[1;33m\u001b[0m\u001b[0m\n\u001b[0m\u001b[0;32m    882\u001b[0m                 \u001b[1;32mreturn\u001b[0m \u001b[0mfunc\u001b[0m\u001b[1;33m(\u001b[0m\u001b[0mv\u001b[0m\u001b[1;33m)\u001b[0m\u001b[1;33m\u001b[0m\u001b[0m\n\u001b[0;32m    883\u001b[0m \u001b[1;33m\u001b[0m\u001b[0m\n",
      "\u001b[1;31mAttributeError\u001b[0m: Unknown property gap"
     ]
    },
    {
     "data": {
      "image/png": "[encoded data removed]",
      "text/plain": [
       "<Figure size 432x288 with 1 Axes>"
      ]
     },
     "metadata": {},
     "output_type": "display_data"
    }
   ],
   "source": [
    "bar_chart = plt.bar(overall_sentiments_df[\"Media Outlet\"],overall_sentiments_df[\"Compound Score\"], \n",
    "                    color ='brown', alpha=0.5, align=\"edge\")\n",
    "x_axis = np.arange(len(overall_sentiments_df[\"Media Outlet\"]))\n",
    "tick_locations = [value+0.4 for value in x_axis]\n",
    "plt.xticks(tick_locations, [\"BBC\", \"CBS\", \"CNN\", \"FOX\", \"NYT\"])\n",
    "\n",
    "plt.title(\"Overall Media Sentiment Based on Tweeter (04/07/2018)\")\n",
    "plt.ylabel(\"Tweet Polarity\")\n",
    "bar_chart[1].set_color('green')\n",
    "bar_chart[2].set_color('red')\n",
    "bar_chart[3].set_color('blue')\n",
    "bar_chart[4].set_color('yellow')\n",
    "\n",
    "plt.ylim([-0.3,0.15]) #Bonus\n",
    "plt.grid()\n",
    "plt.show()"
   ]
  },
  {
   "cell_type": "code",
   "execution_count": null,
   "metadata": {},
   "outputs": [],
   "source": []
  },
  {
   "cell_type": "code",
   "execution_count": null,
   "metadata": {},
   "outputs": [],
   "source": []
  }
 ],
 "metadata": {
  "kernelspec": {
   "display_name": "Python [conda env:PythonData]",
   "language": "python",
   "name": "conda-env-PythonData-py"
  },
  "language_info": {
   "codemirror_mode": {
    "name": "ipython",
    "version": 3
   },
   "file_extension": ".py",
   "mimetype": "text/x-python",
   "name": "python",
   "nbconvert_exporter": "python",
   "pygments_lexer": "ipython3",
   "version": "3.6.4"
  }
 },
 "nbformat": 4,
 "nbformat_minor": 2
}
