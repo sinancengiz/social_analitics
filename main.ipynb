{
 "cells": [
  {
   "cell_type": "code",
   "execution_count": 39,
   "metadata": {},
   "outputs": [],
   "source": [
    "# Dependencies\n",
    "import json\n",
    "import tweepy\n",
    "import numpy as np\n",
    "import pandas as pd\n",
    "import matplotlib.pyplot as plt\n",
    "from matplotlib import style\n",
    "from datetime import datetime\n",
    "from pprint import pprint"
   ]
  },
  {
   "cell_type": "code",
   "execution_count": 40,
   "metadata": {},
   "outputs": [],
   "source": [
    "# Import Twitter API Keys\n",
    "from config import consumer_key, consumer_secret, access_token, access_token_secret"
   ]
  },
  {
   "cell_type": "code",
   "execution_count": 41,
   "metadata": {},
   "outputs": [],
   "source": [
    "# Setup Tweepy API Authentication\n",
    "auth = tweepy.OAuthHandler(consumer_key, consumer_secret)\n",
    "auth.set_access_token(access_token, access_token_secret)\n",
    "api = tweepy.API(auth, parser=tweepy.parsers.JSONParser())"
   ]
  },
  {
   "cell_type": "code",
   "execution_count": 42,
   "metadata": {},
   "outputs": [],
   "source": [
    "# Target Hashtags\n",
    "target_user =[\"@BBC\", \"@CBSNews\", \"@cnni\", \"@FoxNews\", \"@nytimes\"]"
   ]
  },
  {
   "cell_type": "code",
   "execution_count": 43,
   "metadata": {},
   "outputs": [],
   "source": [
    "# List for dictionaries of results\n",
    "user_results_means_list= []\n",
    "user_result_list = []\n",
    "bbc_results = []"
   ]
  },
  {
   "cell_type": "code",
   "execution_count": 44,
   "metadata": {},
   "outputs": [],
   "source": [
    "# Import and Initialize Sentiment Analyzer\n",
    "from vaderSentiment.vaderSentiment import SentimentIntensityAnalyzer\n",
    "analyzer = SentimentIntensityAnalyzer()"
   ]
  },
  {
   "cell_type": "code",
   "execution_count": 45,
   "metadata": {},
   "outputs": [
    {
     "name": "stdout",
     "output_type": "stream",
     "text": [
      "'Thu Jan 29 08:30:16 +0000 2009'\n"
     ]
    }
   ],
   "source": [
    "#get created at to see the result is coming \n",
    "public_tweets = api.user_timeline(\"@BBC\", page=1)\n",
    "pprint(public_tweets[1][\"user\"][\"created_at\"])"
   ]
  },
  {
   "cell_type": "code",
   "execution_count": 46,
   "metadata": {
    "scrolled": true
   },
   "outputs": [],
   "source": [
    "# Loop through each user\n",
    "for user in target_user:\n",
    "\n",
    "    # Variables for holding sentiments\n",
    "    tweet_text_list = []\n",
    "    tweet_times = []\n",
    "    compound_list = []\n",
    "    positive_list = []\n",
    "    negative_list = []\n",
    "    neutral_list = []\n",
    "    \n",
    "    # Loop through 5 pages of tweets (total 100 tweets)\n",
    "    for x in range(1, 6):\n",
    "\n",
    "        # Get all tweets from home feed\n",
    "        public_tweets = api.user_timeline(user, page=x)\n",
    "\n",
    "        # Loop through all tweets\n",
    "        for tweet in public_tweets:\n",
    "\n",
    "            # Run Vader Analysis on each tweet\n",
    "            results = analyzer.polarity_scores(tweet[\"text\"])\n",
    "            tweet_text = tweet[\"text\"]\n",
    "            tweet_time = tweet[\"user\"][\"created_at\"]\n",
    "            compound = results[\"compound\"]\n",
    "            pos = results[\"pos\"]\n",
    "            neu = results[\"neu\"]\n",
    "            neg = results[\"neg\"]\n",
    "           # Add each value to the appropriate list\n",
    "            tweet_text_list.append(tweet_text)\n",
    "            tweet_times.append(tweet_time)\n",
    "            compound_list.append(compound)\n",
    "            positive_list.append(pos)\n",
    "            negative_list.append(neg)\n",
    "            neutral_list.append(neu)\n",
    "\n",
    "    # Create a dictionaty of results\n",
    "    user_results_means = {\n",
    "        \"Compound Score\": np.mean(compound_list),\n",
    "        \"Postive Score\": np.mean(positive_list),\n",
    "        \"Neutral Score\": np.mean(neutral_list),\n",
    "        \"Negative Score\": np.mean(negative_list)\n",
    "        }\n",
    "    user_results = {\n",
    "        \"Text\" : tweet_text_list,\n",
    "        \"Tweet Time\" : tweet_times,\n",
    "        \"Compound Score\": compound_list,\n",
    "        \"Postive Score\": positive_list,\n",
    "        \"Neutral Score\": neutral_list,\n",
    "        \"Negative Score\": negative_list\n",
    "        }\n",
    "        \n",
    "    # Append dictionary to list\n",
    "    \n",
    "    user_results_means_list.append(user_results_means)\n",
    "    \n",
    "    if user == \"@BBC\":\n",
    "        bbc_df = pd.DataFrame(user_results)\n",
    "    elif user == \"@CBSNews\":\n",
    "       cbs_df = pd.DataFrame(user_results)\n",
    "    elif user == \"@cnni\":\n",
    "       cnn_df = pd.DataFrame(user_results)\n",
    "    elif user == \"@FoxNews\":\n",
    "       fox_df = pd.DataFrame(user_results)\n",
    "    elif user == \"@nytimes\":\n",
    "       nyt_df = pd.DataFrame(user_results)"
   ]
  },
  {
   "cell_type": "code",
   "execution_count": 47,
   "metadata": {},
   "outputs": [
    {
     "data": {
      "text/html": [
       "<div>\n",
       "<style scoped>\n",
       "    .dataframe tbody tr th:only-of-type {\n",
       "        vertical-align: middle;\n",
       "    }\n",
       "\n",
       "    .dataframe tbody tr th {\n",
       "        vertical-align: top;\n",
       "    }\n",
       "\n",
       "    .dataframe thead th {\n",
       "        text-align: right;\n",
       "    }\n",
       "</style>\n",
       "<table border=\"1\" class=\"dataframe\">\n",
       "  <thead>\n",
       "    <tr style=\"text-align: right;\">\n",
       "      <th></th>\n",
       "      <th>Compound Score</th>\n",
       "      <th>Negative Score</th>\n",
       "      <th>Neutral Score</th>\n",
       "      <th>Postive Score</th>\n",
       "      <th>Text</th>\n",
       "      <th>Tweet Time</th>\n",
       "    </tr>\n",
       "  </thead>\n",
       "  <tbody>\n",
       "    <tr>\n",
       "      <th>0</th>\n",
       "      <td>-0.6908</td>\n",
       "      <td>0.207</td>\n",
       "      <td>0.793</td>\n",
       "      <td>0.000</td>\n",
       "      <td>The tiny elevator in a Brooklyn housing projec...</td>\n",
       "      <td>Fri Mar 02 20:41:42 +0000 2007</td>\n",
       "    </tr>\n",
       "    <tr>\n",
       "      <th>1</th>\n",
       "      <td>0.0000</td>\n",
       "      <td>0.000</td>\n",
       "      <td>1.000</td>\n",
       "      <td>0.000</td>\n",
       "      <td>South Carolina's former first lady, Jenny Sanf...</td>\n",
       "      <td>Fri Mar 02 20:41:42 +0000 2007</td>\n",
       "    </tr>\n",
       "    <tr>\n",
       "      <th>2</th>\n",
       "      <td>0.2776</td>\n",
       "      <td>0.064</td>\n",
       "      <td>0.823</td>\n",
       "      <td>0.113</td>\n",
       "      <td>Modern Love: \"I’m not sure it’s possible to ju...</td>\n",
       "      <td>Fri Mar 02 20:41:42 +0000 2007</td>\n",
       "    </tr>\n",
       "    <tr>\n",
       "      <th>3</th>\n",
       "      <td>0.4215</td>\n",
       "      <td>0.000</td>\n",
       "      <td>0.797</td>\n",
       "      <td>0.203</td>\n",
       "      <td>Review: ‘Mean Girls’ Sets the Perils of Being ...</td>\n",
       "      <td>Fri Mar 02 20:41:42 +0000 2007</td>\n",
       "    </tr>\n",
       "    <tr>\n",
       "      <th>4</th>\n",
       "      <td>-0.1027</td>\n",
       "      <td>0.188</td>\n",
       "      <td>0.680</td>\n",
       "      <td>0.132</td>\n",
       "      <td>Michigan will stop providing free bottled wate...</td>\n",
       "      <td>Fri Mar 02 20:41:42 +0000 2007</td>\n",
       "    </tr>\n",
       "  </tbody>\n",
       "</table>\n",
       "</div>"
      ],
      "text/plain": [
       "   Compound Score  Negative Score  Neutral Score  Postive Score  \\\n",
       "0         -0.6908           0.207          0.793          0.000   \n",
       "1          0.0000           0.000          1.000          0.000   \n",
       "2          0.2776           0.064          0.823          0.113   \n",
       "3          0.4215           0.000          0.797          0.203   \n",
       "4         -0.1027           0.188          0.680          0.132   \n",
       "\n",
       "                                                Text  \\\n",
       "0  The tiny elevator in a Brooklyn housing projec...   \n",
       "1  South Carolina's former first lady, Jenny Sanf...   \n",
       "2  Modern Love: \"I’m not sure it’s possible to ju...   \n",
       "3  Review: ‘Mean Girls’ Sets the Perils of Being ...   \n",
       "4  Michigan will stop providing free bottled wate...   \n",
       "\n",
       "                       Tweet Time  \n",
       "0  Fri Mar 02 20:41:42 +0000 2007  \n",
       "1  Fri Mar 02 20:41:42 +0000 2007  \n",
       "2  Fri Mar 02 20:41:42 +0000 2007  \n",
       "3  Fri Mar 02 20:41:42 +0000 2007  \n",
       "4  Fri Mar 02 20:41:42 +0000 2007  "
      ]
     },
     "execution_count": 47,
     "metadata": {},
     "output_type": "execute_result"
    }
   ],
   "source": [
    "nyt_df.head()"
   ]
  },
  {
   "cell_type": "code",
   "execution_count": 48,
   "metadata": {
    "scrolled": false
   },
   "outputs": [],
   "source": [
    "#Add timestamp to dataFrames\n",
    "bbc_df[\"Timestamp\"] = range(1, 101)\n",
    "cbs_df[\"Timestamp\"] = range(1, 101)\n",
    "cnn_df[\"Timestamp\"] = range(1, 101)\n",
    "fox_df[\"Timestamp\"] = range(1, 101)\n",
    "nyt_df[\"Timestamp\"] = range(1, 101)"
   ]
  },
  {
   "cell_type": "code",
   "execution_count": 49,
   "metadata": {
    "scrolled": true
   },
   "outputs": [],
   "source": [
    "#reorganise the dataFrames Collumns\n",
    "organized_bbc_df = bbc_df[[\"Timestamp\",\"Tweet Time\",\"Text\",\"Compound Score\",\"Neutral Score\",\"Negative Score\",\"Postive Score\"]]\n",
    "organized_cbs_df = cbs_df[[\"Timestamp\",\"Tweet Time\",\"Text\",\"Compound Score\",\"Neutral Score\",\"Negative Score\",\"Postive Score\"]]\n",
    "organized_cnn_df = cnn_df[[\"Timestamp\",\"Tweet Time\",\"Text\",\"Compound Score\",\"Neutral Score\",\"Negative Score\",\"Postive Score\"]]\n",
    "organized_fox_df = fox_df[[\"Timestamp\",\"Tweet Time\",\"Text\",\"Compound Score\",\"Neutral Score\",\"Negative Score\",\"Postive Score\"]]\n",
    "organized_nyt_df = nyt_df[[\"Timestamp\",\"Tweet Time\",\"Text\",\"Compound Score\",\"Neutral Score\",\"Negative Score\",\"Postive Score\"]]\n"
   ]
  },
  {
   "cell_type": "code",
   "execution_count": 50,
   "metadata": {},
   "outputs": [
    {
     "data": {
      "text/html": [
       "<div>\n",
       "<style scoped>\n",
       "    .dataframe tbody tr th:only-of-type {\n",
       "        vertical-align: middle;\n",
       "    }\n",
       "\n",
       "    .dataframe tbody tr th {\n",
       "        vertical-align: top;\n",
       "    }\n",
       "\n",
       "    .dataframe thead th {\n",
       "        text-align: right;\n",
       "    }\n",
       "</style>\n",
       "<table border=\"1\" class=\"dataframe\">\n",
       "  <thead>\n",
       "    <tr style=\"text-align: right;\">\n",
       "      <th></th>\n",
       "      <th>Timestamp</th>\n",
       "      <th>BBC_Compound</th>\n",
       "      <th>CBS_Compound</th>\n",
       "      <th>CNN_Compound</th>\n",
       "      <th>FOX_Compound</th>\n",
       "      <th>NYT_Compound</th>\n",
       "    </tr>\n",
       "  </thead>\n",
       "  <tbody>\n",
       "    <tr>\n",
       "      <th>0</th>\n",
       "      <td>1</td>\n",
       "      <td>0.0000</td>\n",
       "      <td>0.0000</td>\n",
       "      <td>-0.7096</td>\n",
       "      <td>0.0000</td>\n",
       "      <td>-0.6908</td>\n",
       "    </tr>\n",
       "    <tr>\n",
       "      <th>1</th>\n",
       "      <td>2</td>\n",
       "      <td>0.4939</td>\n",
       "      <td>0.3400</td>\n",
       "      <td>-0.8834</td>\n",
       "      <td>-0.2411</td>\n",
       "      <td>0.0000</td>\n",
       "    </tr>\n",
       "    <tr>\n",
       "      <th>2</th>\n",
       "      <td>3</td>\n",
       "      <td>0.2500</td>\n",
       "      <td>-0.8258</td>\n",
       "      <td>-0.3818</td>\n",
       "      <td>0.3818</td>\n",
       "      <td>0.2776</td>\n",
       "    </tr>\n",
       "    <tr>\n",
       "      <th>3</th>\n",
       "      <td>4</td>\n",
       "      <td>0.0000</td>\n",
       "      <td>0.0000</td>\n",
       "      <td>0.0000</td>\n",
       "      <td>0.0000</td>\n",
       "      <td>0.4215</td>\n",
       "    </tr>\n",
       "    <tr>\n",
       "      <th>4</th>\n",
       "      <td>5</td>\n",
       "      <td>0.0000</td>\n",
       "      <td>-0.7506</td>\n",
       "      <td>0.0000</td>\n",
       "      <td>0.0000</td>\n",
       "      <td>-0.1027</td>\n",
       "    </tr>\n",
       "  </tbody>\n",
       "</table>\n",
       "</div>"
      ],
      "text/plain": [
       "   Timestamp  BBC_Compound  CBS_Compound  CNN_Compound  FOX_Compound  \\\n",
       "0          1        0.0000        0.0000       -0.7096        0.0000   \n",
       "1          2        0.4939        0.3400       -0.8834       -0.2411   \n",
       "2          3        0.2500       -0.8258       -0.3818        0.3818   \n",
       "3          4        0.0000        0.0000        0.0000        0.0000   \n",
       "4          5        0.0000       -0.7506        0.0000        0.0000   \n",
       "\n",
       "   NYT_Compound  \n",
       "0       -0.6908  \n",
       "1        0.0000  \n",
       "2        0.2776  \n",
       "3        0.4215  \n",
       "4       -0.1027  "
      ]
     },
     "execution_count": 50,
     "metadata": {},
     "output_type": "execute_result"
    }
   ],
   "source": [
    "#Get the all compound values and put them in single dataFrame\n",
    "compound_values_df = pd.DataFrame(organized_bbc_df[\"Timestamp\"])\n",
    "compound_values_df[\"BBC_Compound\"] = organized_bbc_df[\"Compound Score\"]\n",
    "compound_values_df[\"CBS_Compound\"] = organized_cbs_df[\"Compound Score\"]\n",
    "compound_values_df[\"CNN_Compound\"] = organized_cnn_df[\"Compound Score\"]\n",
    "compound_values_df[\"FOX_Compound\"] = organized_fox_df[\"Compound Score\"]\n",
    "compound_values_df[\"NYT_Compound\"] = organized_nyt_df[\"Compound Score\"]\n",
    "#compound_values_df[\"Timestamp\"] = organized_bbc_df[\"Timestamp\"]\n",
    "compound_values_df.head()"
   ]
  },
  {
   "cell_type": "code",
   "execution_count": 60,
   "metadata": {},
   "outputs": [
    {
     "data": {
      "image/png": "[encoded data removed]",
      "text/plain": [
       "<Figure size 432x288 with 1 Axes>"
      ]
     },
     "metadata": {},
     "output_type": "display_data"
    }
   ],
   "source": [
    "#create a scatter plot which contains all the madia outlets compound values\n",
    "ax = compound_values_df.plot(kind=\"scatter\", x=\"Timestamp\",y=\"BBC_Compound\", color=\"black\", edgecolors=\"black\", s=60,  alpha=0.80, label=\"BBC\")\n",
    "compound_values_df.plot(kind=\"scatter\", x=\"Timestamp\",y=\"CBS_Compound\", color=\"green\", edgecolors=\"black\",s=60, alpha=0.80, label=\"CBS\", ax=ax)\n",
    "compound_values_df.plot(kind=\"scatter\", x=\"Timestamp\",y=\"CNN_Compound\", color=\"red\", edgecolors=\"black\",s=60, alpha=0.80,label=\"CNN\", ax=ax)\n",
    "compound_values_df.plot(kind=\"scatter\", x=\"Timestamp\",y=\"FOX_Compound\", color=\"blue\", edgecolors=\"black\",s=60, alpha=0.80,label=\"FOX\", ax=ax)\n",
    "compound_values_df.plot(kind=\"scatter\", x=\"Timestamp\",y=\"NYT_Compound\", color=\"yellow\", edgecolors=\"black\",s=60, alpha=0.80, label=\"NYT\", ax=ax)\n",
    "#create a title\n",
    "plt.title(\"Sentiment Analysis of Media Tweets (04/07/2018)\")\n",
    "#create a y label\n",
    "plt.ylabel(\"Tweet Polarity\")\n",
    "#set background color\n",
    "ax.set_facecolor('xkcd:pale turquoise')\n",
    "#Putting Legend\n",
    "plt.legend(title = \"Media Outlet\", loc=\"upper right\",bbox_to_anchor=(1.25, 1))\n",
    "#set x and y limits\n",
    "plt.xlim([105,-5]) #Bonus\n",
    "plt.ylim([-1.05,1.05]) #Bonus\n",
    "#set a grid\n",
    "plt.grid()\n",
    "#save png\n",
    "plt.savefig('Sentiment Analysis of Media Tweets.png')\n",
    "#plot the chart\n",
    "plt.show()\n"
   ]
  },
  {
   "cell_type": "code",
   "execution_count": 52,
   "metadata": {},
   "outputs": [
    {
     "data": {
      "text/html": [
       "<div>\n",
       "<style scoped>\n",
       "    .dataframe tbody tr th:only-of-type {\n",
       "        vertical-align: middle;\n",
       "    }\n",
       "\n",
       "    .dataframe tbody tr th {\n",
       "        vertical-align: top;\n",
       "    }\n",
       "\n",
       "    .dataframe thead th {\n",
       "        text-align: right;\n",
       "    }\n",
       "</style>\n",
       "<table border=\"1\" class=\"dataframe\">\n",
       "  <thead>\n",
       "    <tr style=\"text-align: right;\">\n",
       "      <th></th>\n",
       "      <th>Media Outlet</th>\n",
       "      <th>Compound Score</th>\n",
       "      <th>Neutral Score</th>\n",
       "      <th>Negative Score</th>\n",
       "      <th>Postive Score</th>\n",
       "    </tr>\n",
       "  </thead>\n",
       "  <tbody>\n",
       "    <tr>\n",
       "      <th>0</th>\n",
       "      <td>@BBC</td>\n",
       "      <td>0.091746</td>\n",
       "      <td>0.86137</td>\n",
       "      <td>0.04773</td>\n",
       "      <td>0.09089</td>\n",
       "    </tr>\n",
       "    <tr>\n",
       "      <th>1</th>\n",
       "      <td>@CBSNews</td>\n",
       "      <td>-0.194165</td>\n",
       "      <td>0.79305</td>\n",
       "      <td>0.15203</td>\n",
       "      <td>0.05489</td>\n",
       "    </tr>\n",
       "    <tr>\n",
       "      <th>2</th>\n",
       "      <td>@cnni</td>\n",
       "      <td>-0.080350</td>\n",
       "      <td>0.82279</td>\n",
       "      <td>0.10508</td>\n",
       "      <td>0.07214</td>\n",
       "    </tr>\n",
       "    <tr>\n",
       "      <th>3</th>\n",
       "      <td>@FoxNews</td>\n",
       "      <td>-0.101493</td>\n",
       "      <td>0.82154</td>\n",
       "      <td>0.11492</td>\n",
       "      <td>0.06355</td>\n",
       "    </tr>\n",
       "    <tr>\n",
       "      <th>4</th>\n",
       "      <td>@nytimes</td>\n",
       "      <td>0.021295</td>\n",
       "      <td>0.83309</td>\n",
       "      <td>0.08406</td>\n",
       "      <td>0.08286</td>\n",
       "    </tr>\n",
       "  </tbody>\n",
       "</table>\n",
       "</div>"
      ],
      "text/plain": [
       "  Media Outlet  Compound Score  Neutral Score  Negative Score  Postive Score\n",
       "0         @BBC        0.091746        0.86137         0.04773        0.09089\n",
       "1     @CBSNews       -0.194165        0.79305         0.15203        0.05489\n",
       "2        @cnni       -0.080350        0.82279         0.10508        0.07214\n",
       "3     @FoxNews       -0.101493        0.82154         0.11492        0.06355\n",
       "4     @nytimes        0.021295        0.83309         0.08406        0.08286"
      ]
     },
     "execution_count": 52,
     "metadata": {},
     "output_type": "execute_result"
    }
   ],
   "source": [
    "#create a dataframe from user results means data\n",
    "overall_sentiments_df = pd.DataFrame(user_results_means_list)\n",
    "#put target users in to the data frame\n",
    "overall_sentiments_df[\"Media Outlet\"] = target_user\n",
    "#reorganising the collumns\n",
    "overall_sentiments_df = overall_sentiments_df[[\"Media Outlet\",\"Compound Score\",\"Neutral Score\",\"Negative Score\",\"Postive Score\"]]\n",
    "overall_sentiments_df\n"
   ]
  },
  {
   "cell_type": "code",
   "execution_count": 58,
   "metadata": {},
   "outputs": [
    {
     "data": {
      "image/png": "[encoded data removed]",
      "text/plain": [
       "<Figure size 432x288 with 1 Axes>"
      ]
     },
     "metadata": {},
     "output_type": "display_data"
    }
   ],
   "source": [
    "#Creating bar chart that show the madia outlet overal sentiment data\n",
    "bar_chart = plt.bar(overall_sentiments_df[\"Media Outlet\"],overall_sentiments_df[\"Compound Score\"], \n",
    "                    color ='brown', alpha=0.5, align=\"edge\")\n",
    "x_axis = np.arange(len(overall_sentiments_df[\"Media Outlet\"]))\n",
    "tick_locations = [value+0.4 for value in x_axis]\n",
    "plt.xticks(tick_locations, [\"BBC\", \"CBS\", \"CNN\", \"FOX\", \"NYT\"])\n",
    "# add the title\n",
    "plt.title(\"Overall Media Sentiment Based on Tweeter (04/07/2018)\")\n",
    "#add labels\n",
    "plt.ylabel(\"Tweet Polarity\")\n",
    "plt.xlabel(\"Media Outlets\")\n",
    "#add color to the bars\n",
    "bar_chart[1].set_color('green')\n",
    "bar_chart[2].set_color('red')\n",
    "bar_chart[3].set_color('blue')\n",
    "bar_chart[4].set_color('yellow')\n",
    "#set y limit\n",
    "plt.ylim([-0.3,0.15]) #Bonus\n",
    "#add grid\n",
    "plt.grid()\n",
    "#save png\n",
    "plt.savefig('Overall Media Sentiment Based on Tweeter.png')\n",
    "#plot \n",
    "plt.show()\n"
   ]
  },
  {
   "cell_type": "code",
   "execution_count": 54,
   "metadata": {
    "scrolled": true
   },
   "outputs": [],
   "source": [
    "#Excract data to csv\n",
    "writer = pd.ExcelWriter('Media_Outlet_result.xlsx')\n",
    "overall_sentiments_df.to_excel(writer, index=False, sheet_name='Overal Media Sentiment')\n",
    "organized_bbc_df.to_excel(writer,index=False, sheet_name='BBC')\n",
    "organized_cbs_df.to_excel(writer,index=False, sheet_name='CBS')\n",
    "organized_cnn_df.to_excel(writer,index=False, sheet_name='CNN')\n",
    "organized_fox_df.to_excel(writer,index=False, sheet_name='FOX')\n",
    "organized_nyt_df.to_excel(writer,index=False, sheet_name='NYT')\n",
    "writer.save()"
   ]
  },
  {
   "cell_type": "code",
   "execution_count": null,
   "metadata": {},
   "outputs": [],
   "source": []
  }
 ],
 "metadata": {
  "kernelspec": {
   "display_name": "Python [conda env:PythonData]",
   "language": "python",
   "name": "conda-env-PythonData-py"
  },
  "language_info": {
   "codemirror_mode": {
    "name": "ipython",
    "version": 3
   },
   "file_extension": ".py",
   "mimetype": "text/x-python",
   "name": "python",
   "nbconvert_exporter": "python",
   "pygments_lexer": "ipython3",
   "version": "3.6.4"
  }
 },
 "nbformat": 4,
 "nbformat_minor": 2
}
