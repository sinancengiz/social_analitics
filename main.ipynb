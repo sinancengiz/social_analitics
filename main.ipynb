{
 "cells": [
  {
   "cell_type": "code",
   "execution_count": 1,
   "metadata": {},
   "outputs": [],
   "source": [
    "# Dependencies\n",
    "import json\n",
    "import tweepy\n",
    "import numpy as np\n",
    "import pandas as pd\n",
    "import matplotlib.pyplot as plt\n",
    "from matplotlib import style\n",
    "from datetime import datetime\n",
    "from pprint import pprint"
   ]
  },
  {
   "cell_type": "code",
   "execution_count": 2,
   "metadata": {},
   "outputs": [],
   "source": [
    "# Import Twitter API Keys\n",
    "from config import consumer_key, consumer_secret, access_token, access_token_secret"
   ]
  },
  {
   "cell_type": "code",
   "execution_count": 3,
   "metadata": {},
   "outputs": [],
   "source": [
    "# Setup Tweepy API Authentication\n",
    "auth = tweepy.OAuthHandler(consumer_key, consumer_secret)\n",
    "auth.set_access_token(access_token, access_token_secret)\n",
    "api = tweepy.API(auth, parser=tweepy.parsers.JSONParser())"
   ]
  },
  {
   "cell_type": "code",
   "execution_count": 4,
   "metadata": {},
   "outputs": [],
   "source": [
    "# Target Hashtags\n",
    "target_user =[\"@BBC\", \"@CBSNews\", \"@cnni\", \"@FoxNews\", \"@nytimes\"]"
   ]
  },
  {
   "cell_type": "code",
   "execution_count": 5,
   "metadata": {},
   "outputs": [],
   "source": [
    "# List for dictionaries of results\n",
    "user_results_means_list= []\n",
    "user_result_list = []\n",
    "bbc_results = []"
   ]
  },
  {
   "cell_type": "code",
   "execution_count": 6,
   "metadata": {},
   "outputs": [],
   "source": [
    "# Import and Initialize Sentiment Analyzer\n",
    "from vaderSentiment.vaderSentiment import SentimentIntensityAnalyzer\n",
    "analyzer = SentimentIntensityAnalyzer()"
   ]
  },
  {
   "cell_type": "code",
   "execution_count": 7,
   "metadata": {},
   "outputs": [
    {
     "name": "stdout",
     "output_type": "stream",
     "text": [
      "'Thu Jan 29 08:30:16 +0000 2009'\n"
     ]
    }
   ],
   "source": [
    "#get created at to see the result is coming \n",
    "public_tweets = api.user_timeline(\"@BBC\", page=1)\n",
    "pprint(public_tweets[1][\"user\"][\"created_at\"])"
   ]
  },
  {
   "cell_type": "code",
   "execution_count": 8,
   "metadata": {
    "scrolled": true
   },
   "outputs": [],
   "source": [
    "# Loop through each user\n",
    "for user in target_user:\n",
    "\n",
    "    # Variables for holding sentiments\n",
    "    tweet_text_list = []\n",
    "    tweet_times = []\n",
    "    compound_list = []\n",
    "    positive_list = []\n",
    "    negative_list = []\n",
    "    neutral_list = []\n",
    "    \n",
    "    # Loop through 5 pages of tweets (total 100 tweets)\n",
    "    for x in range(1, 6):\n",
    "\n",
    "        # Get all tweets from home feed\n",
    "        public_tweets = api.user_timeline(user, page=x)\n",
    "\n",
    "        # Loop through all tweets\n",
    "        for tweet in public_tweets:\n",
    "\n",
    "            # Run Vader Analysis on each tweet\n",
    "            results = analyzer.polarity_scores(tweet[\"text\"])\n",
    "            tweet_text = tweet[\"text\"]\n",
    "            tweet_time = tweet[\"user\"][\"created_at\"]\n",
    "            compound = results[\"compound\"]\n",
    "            pos = results[\"pos\"]\n",
    "            neu = results[\"neu\"]\n",
    "            neg = results[\"neg\"]\n",
    "           # Add each value to the appropriate list\n",
    "            tweet_text_list.append(tweet_text)\n",
    "            tweet_times.append(tweet_time)\n",
    "            compound_list.append(compound)\n",
    "            positive_list.append(pos)\n",
    "            negative_list.append(neg)\n",
    "            neutral_list.append(neu)\n",
    "\n",
    "    # Create a dictionaty of results\n",
    "    user_results_means = {\n",
    "        \"Compound Score\": np.mean(compound_list),\n",
    "        \"Postive Score\": np.mean(positive_list),\n",
    "        \"Neutral Score\": np.mean(neutral_list),\n",
    "        \"Negative Score\": np.mean(negative_list)\n",
    "        }\n",
    "    user_results = {\n",
    "        \"Text\" : tweet_text_list,\n",
    "        \"Tweet Time\" : tweet_times,\n",
    "        \"Compound Score\": compound_list,\n",
    "        \"Postive Score\": positive_list,\n",
    "        \"Neutral Score\": neutral_list,\n",
    "        \"Negative Score\": negative_list\n",
    "        }\n",
    "        \n",
    "    # Append dictionary to list\n",
    "    \n",
    "    user_results_means_list.append(user_results_means)\n",
    "    \n",
    "    if user == \"@BBC\":\n",
    "        bbc_df = pd.DataFrame(user_results)\n",
    "    elif user == \"@CBSNews\":\n",
    "       cbs_df = pd.DataFrame(user_results)\n",
    "    elif user == \"@cnni\":\n",
    "       cnn_df = pd.DataFrame(user_results)\n",
    "    elif user == \"@FoxNews\":\n",
    "       fox_df = pd.DataFrame(user_results)\n",
    "    elif user == \"@nytimes\":\n",
    "       nyt_df = pd.DataFrame(user_results)"
   ]
  },
  {
   "cell_type": "code",
   "execution_count": 9,
   "metadata": {},
   "outputs": [
    {
     "data": {
      "text/html": [
       "<div>\n",
       "<style scoped>\n",
       "    .dataframe tbody tr th:only-of-type {\n",
       "        vertical-align: middle;\n",
       "    }\n",
       "\n",
       "    .dataframe tbody tr th {\n",
       "        vertical-align: top;\n",
       "    }\n",
       "\n",
       "    .dataframe thead th {\n",
       "        text-align: right;\n",
       "    }\n",
       "</style>\n",
       "<table border=\"1\" class=\"dataframe\">\n",
       "  <thead>\n",
       "    <tr style=\"text-align: right;\">\n",
       "      <th></th>\n",
       "      <th>Compound Score</th>\n",
       "      <th>Negative Score</th>\n",
       "      <th>Neutral Score</th>\n",
       "      <th>Postive Score</th>\n",
       "      <th>Text</th>\n",
       "      <th>Tweet Time</th>\n",
       "    </tr>\n",
       "  </thead>\n",
       "  <tbody>\n",
       "    <tr>\n",
       "      <th>0</th>\n",
       "      <td>-0.1027</td>\n",
       "      <td>0.188</td>\n",
       "      <td>0.680</td>\n",
       "      <td>0.132</td>\n",
       "      <td>Michigan will stop providing free bottled wate...</td>\n",
       "      <td>Fri Mar 02 20:41:42 +0000 2007</td>\n",
       "    </tr>\n",
       "    <tr>\n",
       "      <th>1</th>\n",
       "      <td>0.0258</td>\n",
       "      <td>0.000</td>\n",
       "      <td>0.939</td>\n",
       "      <td>0.061</td>\n",
       "      <td>Many people taking antidepressants are saying ...</td>\n",
       "      <td>Fri Mar 02 20:41:42 +0000 2007</td>\n",
       "    </tr>\n",
       "    <tr>\n",
       "      <th>2</th>\n",
       "      <td>0.3400</td>\n",
       "      <td>0.000</td>\n",
       "      <td>0.821</td>\n",
       "      <td>0.179</td>\n",
       "      <td>North Korea Said to Offer Direct Assurance It ...</td>\n",
       "      <td>Fri Mar 02 20:41:42 +0000 2007</td>\n",
       "    </tr>\n",
       "    <tr>\n",
       "      <th>3</th>\n",
       "      <td>0.7351</td>\n",
       "      <td>0.000</td>\n",
       "      <td>0.725</td>\n",
       "      <td>0.275</td>\n",
       "      <td>The snow monkeys of Japan like a nice warm bat...</td>\n",
       "      <td>Fri Mar 02 20:41:42 +0000 2007</td>\n",
       "    </tr>\n",
       "    <tr>\n",
       "      <th>4</th>\n",
       "      <td>-0.6124</td>\n",
       "      <td>0.267</td>\n",
       "      <td>0.733</td>\n",
       "      <td>0.000</td>\n",
       "      <td>A Town That Lives for Hockey Is Devastated by ...</td>\n",
       "      <td>Fri Mar 02 20:41:42 +0000 2007</td>\n",
       "    </tr>\n",
       "  </tbody>\n",
       "</table>\n",
       "</div>"
      ],
      "text/plain": [
       "   Compound Score  Negative Score  Neutral Score  Postive Score  \\\n",
       "0         -0.1027           0.188          0.680          0.132   \n",
       "1          0.0258           0.000          0.939          0.061   \n",
       "2          0.3400           0.000          0.821          0.179   \n",
       "3          0.7351           0.000          0.725          0.275   \n",
       "4         -0.6124           0.267          0.733          0.000   \n",
       "\n",
       "                                                Text  \\\n",
       "0  Michigan will stop providing free bottled wate...   \n",
       "1  Many people taking antidepressants are saying ...   \n",
       "2  North Korea Said to Offer Direct Assurance It ...   \n",
       "3  The snow monkeys of Japan like a nice warm bat...   \n",
       "4  A Town That Lives for Hockey Is Devastated by ...   \n",
       "\n",
       "                       Tweet Time  \n",
       "0  Fri Mar 02 20:41:42 +0000 2007  \n",
       "1  Fri Mar 02 20:41:42 +0000 2007  \n",
       "2  Fri Mar 02 20:41:42 +0000 2007  \n",
       "3  Fri Mar 02 20:41:42 +0000 2007  \n",
       "4  Fri Mar 02 20:41:42 +0000 2007  "
      ]
     },
     "execution_count": 9,
     "metadata": {},
     "output_type": "execute_result"
    }
   ],
   "source": [
    "nyt_df.head()"
   ]
  },
  {
   "cell_type": "code",
   "execution_count": 10,
   "metadata": {
    "scrolled": false
   },
   "outputs": [],
   "source": [
    "#Add timestamp to dataFrames\n",
    "bbc_df[\"Timestamp\"] = range(1, 101)\n",
    "cbs_df[\"Timestamp\"] = range(1, 101)\n",
    "cnn_df[\"Timestamp\"] = range(1, 101)\n",
    "fox_df[\"Timestamp\"] = range(1, 101)\n",
    "nyt_df[\"Timestamp\"] = range(1, 101)"
   ]
  },
  {
   "cell_type": "code",
   "execution_count": 11,
   "metadata": {
    "scrolled": true
   },
   "outputs": [],
   "source": [
    "#reorganise the dataFrames Collumns\n",
    "organized_bbc_df = bbc_df[[\"Timestamp\",\"Tweet Time\",\"Text\",\"Compound Score\",\"Neutral Score\",\"Negative Score\",\"Postive Score\"]]\n",
    "organized_cbs_df = cbs_df[[\"Timestamp\",\"Tweet Time\",\"Text\",\"Compound Score\",\"Neutral Score\",\"Negative Score\",\"Postive Score\"]]\n",
    "organized_cnn_df = cnn_df[[\"Timestamp\",\"Tweet Time\",\"Text\",\"Compound Score\",\"Neutral Score\",\"Negative Score\",\"Postive Score\"]]\n",
    "organized_fox_df = fox_df[[\"Timestamp\",\"Tweet Time\",\"Text\",\"Compound Score\",\"Neutral Score\",\"Negative Score\",\"Postive Score\"]]\n",
    "organized_nyt_df = nyt_df[[\"Timestamp\",\"Tweet Time\",\"Text\",\"Compound Score\",\"Neutral Score\",\"Negative Score\",\"Postive Score\"]]\n"
   ]
  },
  {
   "cell_type": "code",
   "execution_count": 16,
   "metadata": {},
   "outputs": [
    {
     "data": {
      "text/html": [
       "<div>\n",
       "<style scoped>\n",
       "    .dataframe tbody tr th:only-of-type {\n",
       "        vertical-align: middle;\n",
       "    }\n",
       "\n",
       "    .dataframe tbody tr th {\n",
       "        vertical-align: top;\n",
       "    }\n",
       "\n",
       "    .dataframe thead th {\n",
       "        text-align: right;\n",
       "    }\n",
       "</style>\n",
       "<table border=\"1\" class=\"dataframe\">\n",
       "  <thead>\n",
       "    <tr style=\"text-align: right;\">\n",
       "      <th></th>\n",
       "      <th>Timestamp</th>\n",
       "      <th>BBC_Compound</th>\n",
       "      <th>CBS_Compound</th>\n",
       "      <th>CNN_Compound</th>\n",
       "      <th>FOX_Compound</th>\n",
       "      <th>NYT_Compound</th>\n",
       "    </tr>\n",
       "  </thead>\n",
       "  <tbody>\n",
       "    <tr>\n",
       "      <th>0</th>\n",
       "      <td>1</td>\n",
       "      <td>0.0000</td>\n",
       "      <td>0.0000</td>\n",
       "      <td>0.0000</td>\n",
       "      <td>-0.3566</td>\n",
       "      <td>-0.1027</td>\n",
       "    </tr>\n",
       "    <tr>\n",
       "      <th>1</th>\n",
       "      <td>2</td>\n",
       "      <td>0.4939</td>\n",
       "      <td>0.0000</td>\n",
       "      <td>0.6369</td>\n",
       "      <td>0.4019</td>\n",
       "      <td>0.0258</td>\n",
       "    </tr>\n",
       "    <tr>\n",
       "      <th>2</th>\n",
       "      <td>3</td>\n",
       "      <td>0.2500</td>\n",
       "      <td>-0.3400</td>\n",
       "      <td>0.5719</td>\n",
       "      <td>0.6908</td>\n",
       "      <td>0.3400</td>\n",
       "    </tr>\n",
       "    <tr>\n",
       "      <th>3</th>\n",
       "      <td>4</td>\n",
       "      <td>0.0000</td>\n",
       "      <td>-0.8860</td>\n",
       "      <td>0.7717</td>\n",
       "      <td>0.6249</td>\n",
       "      <td>0.7351</td>\n",
       "    </tr>\n",
       "    <tr>\n",
       "      <th>4</th>\n",
       "      <td>5</td>\n",
       "      <td>0.0000</td>\n",
       "      <td>-0.2617</td>\n",
       "      <td>0.3400</td>\n",
       "      <td>0.0000</td>\n",
       "      <td>-0.6124</td>\n",
       "    </tr>\n",
       "  </tbody>\n",
       "</table>\n",
       "</div>"
      ],
      "text/plain": [
       "   Timestamp  BBC_Compound  CBS_Compound  CNN_Compound  FOX_Compound  \\\n",
       "0          1        0.0000        0.0000        0.0000       -0.3566   \n",
       "1          2        0.4939        0.0000        0.6369        0.4019   \n",
       "2          3        0.2500       -0.3400        0.5719        0.6908   \n",
       "3          4        0.0000       -0.8860        0.7717        0.6249   \n",
       "4          5        0.0000       -0.2617        0.3400        0.0000   \n",
       "\n",
       "   NYT_Compound  \n",
       "0       -0.1027  \n",
       "1        0.0258  \n",
       "2        0.3400  \n",
       "3        0.7351  \n",
       "4       -0.6124  "
      ]
     },
     "execution_count": 16,
     "metadata": {},
     "output_type": "execute_result"
    }
   ],
   "source": [
    "#Get the all compound values and put them in single dataFrame\n",
    "compound_values_df = pd.DataFrame(organized_bbc_df[\"Timestamp\"])\n",
    "compound_values_df[\"BBC_Compound\"] = organized_bbc_df[\"Compound Score\"]\n",
    "compound_values_df[\"CBS_Compound\"] = organized_cbs_df[\"Compound Score\"]\n",
    "compound_values_df[\"CNN_Compound\"] = organized_cnn_df[\"Compound Score\"]\n",
    "compound_values_df[\"FOX_Compound\"] = organized_fox_df[\"Compound Score\"]\n",
    "compound_values_df[\"NYT_Compound\"] = organized_nyt_df[\"Compound Score\"]\n",
    "#compound_values_df[\"Timestamp\"] = organized_bbc_df[\"Timestamp\"]\n",
    "compound_values_df.head()"
   ]
  },
  {
   "cell_type": "code",
   "execution_count": 18,
   "metadata": {},
   "outputs": [
    {
     "data": {
      "image/png": "[encoded data removed]",
      "text/plain": [
       "<Figure size 432x288 with 1 Axes>"
      ]
     },
     "metadata": {},
     "output_type": "display_data"
    }
   ],
   "source": [
    "#create a scatter plot which contains all the madia outlets compound values\n",
    "ax = compound_values_df.plot(kind=\"scatter\", x=\"Timestamp\",y=\"BBC_Compound\", color=\"black\", edgecolors=\"black\", s=60,  alpha=0.80, label=\"BBC\")\n",
    "compound_values_df.plot(kind=\"scatter\", x=\"Timestamp\",y=\"CBS_Compound\", color=\"green\", edgecolors=\"black\",s=60, alpha=0.80, label=\"CBS\", ax=ax)\n",
    "compound_values_df.plot(kind=\"scatter\", x=\"Timestamp\",y=\"CNN_Compound\", color=\"red\", edgecolors=\"black\",s=60, alpha=0.80,label=\"CNN\", ax=ax)\n",
    "compound_values_df.plot(kind=\"scatter\", x=\"Timestamp\",y=\"FOX_Compound\", color=\"blue\", edgecolors=\"black\",s=60, alpha=0.80,label=\"FOX\", ax=ax)\n",
    "compound_values_df.plot(kind=\"scatter\", x=\"Timestamp\",y=\"NYT_Compound\", color=\"yellow\", edgecolors=\"black\",s=60, alpha=0.80, label=\"NYT\", ax=ax)\n",
    "#create a title\n",
    "plt.title(\"Sentiment Analysis of Media Tweets (04/07/2018)\")\n",
    "#create a y label\n",
    "plt.ylabel(\"Tweet Polarity\")\n",
    "#set background color\n",
    "ax.set_facecolor('xkcd:pale turquoise')\n",
    "#Putting Legend\n",
    "plt.legend(title = \"Media Outlet\", loc=\"upper right\",bbox_to_anchor=(1.25, 1))\n",
    "#set x and y limits\n",
    "plt.xlim([105,-5]) #Bonus\n",
    "plt.ylim([-1.05,1.05]) #Bonus\n",
    "#set a grid\n",
    "plt.grid()\n",
    "#plot the chart\n",
    "plt.show()"
   ]
  },
  {
   "cell_type": "code",
   "execution_count": 20,
   "metadata": {},
   "outputs": [
    {
     "data": {
      "text/html": [
       "<div>\n",
       "<style scoped>\n",
       "    .dataframe tbody tr th:only-of-type {\n",
       "        vertical-align: middle;\n",
       "    }\n",
       "\n",
       "    .dataframe tbody tr th {\n",
       "        vertical-align: top;\n",
       "    }\n",
       "\n",
       "    .dataframe thead th {\n",
       "        text-align: right;\n",
       "    }\n",
       "</style>\n",
       "<table border=\"1\" class=\"dataframe\">\n",
       "  <thead>\n",
       "    <tr style=\"text-align: right;\">\n",
       "      <th></th>\n",
       "      <th>Media Outlet</th>\n",
       "      <th>Compound Score</th>\n",
       "      <th>Neutral Score</th>\n",
       "      <th>Negative Score</th>\n",
       "      <th>Postive Score</th>\n",
       "    </tr>\n",
       "  </thead>\n",
       "  <tbody>\n",
       "    <tr>\n",
       "      <th>0</th>\n",
       "      <td>@BBC</td>\n",
       "      <td>0.091746</td>\n",
       "      <td>0.86137</td>\n",
       "      <td>0.04773</td>\n",
       "      <td>0.09089</td>\n",
       "    </tr>\n",
       "    <tr>\n",
       "      <th>1</th>\n",
       "      <td>@CBSNews</td>\n",
       "      <td>-0.208916</td>\n",
       "      <td>0.79065</td>\n",
       "      <td>0.15731</td>\n",
       "      <td>0.05201</td>\n",
       "    </tr>\n",
       "    <tr>\n",
       "      <th>2</th>\n",
       "      <td>@cnni</td>\n",
       "      <td>-0.051000</td>\n",
       "      <td>0.82785</td>\n",
       "      <td>0.09630</td>\n",
       "      <td>0.07586</td>\n",
       "    </tr>\n",
       "    <tr>\n",
       "      <th>3</th>\n",
       "      <td>@FoxNews</td>\n",
       "      <td>-0.116264</td>\n",
       "      <td>0.81401</td>\n",
       "      <td>0.12352</td>\n",
       "      <td>0.06247</td>\n",
       "    </tr>\n",
       "    <tr>\n",
       "      <th>4</th>\n",
       "      <td>@nytimes</td>\n",
       "      <td>0.013251</td>\n",
       "      <td>0.82973</td>\n",
       "      <td>0.08827</td>\n",
       "      <td>0.08201</td>\n",
       "    </tr>\n",
       "  </tbody>\n",
       "</table>\n",
       "</div>"
      ],
      "text/plain": [
       "  Media Outlet  Compound Score  Neutral Score  Negative Score  Postive Score\n",
       "0         @BBC        0.091746        0.86137         0.04773        0.09089\n",
       "1     @CBSNews       -0.208916        0.79065         0.15731        0.05201\n",
       "2        @cnni       -0.051000        0.82785         0.09630        0.07586\n",
       "3     @FoxNews       -0.116264        0.81401         0.12352        0.06247\n",
       "4     @nytimes        0.013251        0.82973         0.08827        0.08201"
      ]
     },
     "execution_count": 20,
     "metadata": {},
     "output_type": "execute_result"
    }
   ],
   "source": [
    "#create a dataframe from user results means data\n",
    "overall_sentiments_df = pd.DataFrame(user_results_means_list)\n",
    "#put target users in to the data frame\n",
    "overall_sentiments_df[\"Media Outlet\"] = target_user\n",
    "#reorganising the collumns\n",
    "overall_sentiments_df = overall_sentiments_df[[\"Media Outlet\",\"Compound Score\",\"Neutral Score\",\"Negative Score\",\"Postive Score\"]]\n",
    "overall_sentiments_df\n"
   ]
  },
  {
   "cell_type": "code",
   "execution_count": 21,
   "metadata": {},
   "outputs": [
    {
     "data": {
      "image/png": "[encoded data removed]",
      "text/plain": [
       "<Figure size 432x288 with 1 Axes>"
      ]
     },
     "metadata": {},
     "output_type": "display_data"
    }
   ],
   "source": [
    "#Creating bar chart that show the madia outlet overal sentiment data\n",
    "bar_chart = plt.bar(overall_sentiments_df[\"Media Outlet\"],overall_sentiments_df[\"Compound Score\"], \n",
    "                    color ='brown', alpha=0.5, align=\"edge\")\n",
    "x_axis = np.arange(len(overall_sentiments_df[\"Media Outlet\"]))\n",
    "tick_locations = [value+0.4 for value in x_axis]\n",
    "plt.xticks(tick_locations, [\"BBC\", \"CBS\", \"CNN\", \"FOX\", \"NYT\"])\n",
    "# add the title\n",
    "plt.title(\"Overall Media Sentiment Based on Tweeter (04/07/2018)\")\n",
    "plt.ylabel(\"Tweet Polarity\")\n",
    "bar_chart[1].set_color('green')\n",
    "bar_chart[2].set_color('red')\n",
    "bar_chart[3].set_color('blue')\n",
    "bar_chart[4].set_color('yellow')\n",
    "\n",
    "plt.ylim([-0.3,0.15]) #Bonus\n",
    "plt.grid()\n",
    "plt.show()"
   ]
  },
  {
   "cell_type": "code",
   "execution_count": 36,
   "metadata": {
    "scrolled": true
   },
   "outputs": [],
   "source": [
    "#Excract data to csv\n",
    "writer = pd.ExcelWriter('Media_Outlet_result.xlsx')\n",
    "overall_sentiments_df.to_excel(writer, index=False, sheet_name='Overal Media Sentiment')\n",
    "organized_bbc_df.to_excel(writer,index=False, sheet_name='BBC')\n",
    "organized_cbs_df.to_excel(writer,index=False, sheet_name='CBS')\n",
    "organized_cnn_df.to_excel(writer,index=False, sheet_name='CNN')\n",
    "organized_fox_df.to_excel(writer,index=False, sheet_name='FOX')\n",
    "organized_nyt_df.to_excel(writer,index=False, sheet_name='NYT')\n",
    "writer.save()"
   ]
  },
  {
   "cell_type": "code",
   "execution_count": null,
   "metadata": {},
   "outputs": [],
   "source": []
  }
 ],
 "metadata": {
  "kernelspec": {
   "display_name": "Python [conda env:PythonData]",
   "language": "python",
   "name": "conda-env-PythonData-py"
  },
  "language_info": {
   "codemirror_mode": {
    "name": "ipython",
    "version": 3
   },
   "file_extension": ".py",
   "mimetype": "text/x-python",
   "name": "python",
   "nbconvert_exporter": "python",
   "pygments_lexer": "ipython3",
   "version": "3.6.4"
  }
 },
 "nbformat": 4,
 "nbformat_minor": 2
}
